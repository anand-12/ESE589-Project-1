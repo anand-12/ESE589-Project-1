{
  "nbformat": 4,
  "nbformat_minor": 0,
  "metadata": {
    "colab": {
      "provenance": []
    },
    "kernelspec": {
      "name": "python3",
      "display_name": "Python 3"
    },
    "language_info": {
      "name": "python"
    }
  },
  "cells": [
    {
      "cell_type": "code",
      "execution_count": null,
      "metadata": {
        "id": "pQTIxbVcRBCw"
      },
      "outputs": [],
      "source": [
        "import pandas as pd\n",
        "import csv\n",
        "#df = pd.read_csv('heart_failure_clinical_records_dataset.csv')"
      ]
    },
    {
      "cell_type": "code",
      "source": [
        "#print(df)"
      ],
      "metadata": {
        "id": "XIqKGJ-CRPei"
      },
      "execution_count": null,
      "outputs": []
    },
    {
      "cell_type": "code",
      "source": [
        "#df.to_csv('data1.csv',line_terminator = ',')\n"
      ],
      "metadata": {
        "id": "a1cJEMHtR8Bt"
      },
      "execution_count": null,
      "outputs": []
    },
    {
      "cell_type": "code",
      "source": [
        "transaction_list = []\n",
        "with open('/content/poker-hand-testing1.csv', newline='\\n') as csvfile:\n",
        "    spamreader = csv.DictReader(csvfile, delimiter=',')\n",
        "    for row in spamreader:\n",
        "        items = [row['LIST']] + row.get(None, [])\n",
        "        transaction_list.append(items)"
      ],
      "metadata": {
        "id": "3wwL2LfzVDi6"
      },
      "execution_count": null,
      "outputs": []
    },
    {
      "cell_type": "code",
      "source": [
        "print(transaction_list)"
      ],
      "metadata": {
        "colab": {
          "base_uri": "https://localhost:8080/"
        },
        "id": "a5k3SEPFVDwZ",
        "outputId": "f3efcf65-321e-4e0a-f89a-6491d3044fed"
      },
      "execution_count": null,
      "outputs": [
        {
          "output_type": "stream",
          "name": "stderr",
          "text": [
            "IOPub data rate exceeded.\n",
            "The notebook server will temporarily stop sending output\n",
            "to the client in order to avoid crashing it.\n",
            "To change this limit, set the config variable\n",
            "`--NotebookApp.iopub_data_rate_limit`.\n",
            "\n",
            "Current values:\n",
            "NotebookApp.iopub_data_rate_limit=1000000.0 (bytes/sec)\n",
            "NotebookApp.rate_limit_window=3.0 (secs)\n",
            "\n"
          ]
        }
      ]
    },
    {
      "cell_type": "code",
      "source": [
        "for i in transaction_list:\n",
        "  while(\"\" in i):\n",
        "    i.remove(\"\")"
      ],
      "metadata": {
        "id": "Plvv0msIVXCy"
      },
      "execution_count": null,
      "outputs": []
    },
    {
      "cell_type": "code",
      "source": [
        "print(transaction_list)"
      ],
      "metadata": {
        "colab": {
          "base_uri": "https://localhost:8080/"
        },
        "id": "_u5Nm0BoVXOf",
        "outputId": "88cede13-ec6e-4015-98e1-a14d111bb4f7"
      },
      "execution_count": null,
      "outputs": [
        {
          "output_type": "stream",
          "name": "stderr",
          "text": [
            "IOPub data rate exceeded.\n",
            "The notebook server will temporarily stop sending output\n",
            "to the client in order to avoid crashing it.\n",
            "To change this limit, set the config variable\n",
            "`--NotebookApp.iopub_data_rate_limit`.\n",
            "\n",
            "Current values:\n",
            "NotebookApp.iopub_data_rate_limit=1000000.0 (bytes/sec)\n",
            "NotebookApp.rate_limit_window=3.0 (secs)\n",
            "\n"
          ]
        }
      ]
    },
    {
      "cell_type": "code",
      "source": [
        "xList = []\n",
        "yListMinSupport = []\n",
        "yListTime = []\n",
        "yListMemory = []"
      ],
      "metadata": {
        "id": "L0Le5-TvVD5t"
      },
      "execution_count": null,
      "outputs": []
    },
    {
      "cell_type": "code",
      "source": [
        "for thisNum in range(20000,100000,10000):\n",
        "  valueOfN = thisNum\n",
        "  xList.append(valueOfN)\n",
        "  class node:\n",
        "      def __init__(self, word, word_count=0, parent=None, link=None):\n",
        "          self.word=word\n",
        "          self.word_count=word_count\n",
        "          self.parent=parent\n",
        "          self.link=link\n",
        "          self.children={}\n",
        "\n",
        "  #tree traversal\n",
        "      def visittree(self):\n",
        "  #        if self is None:\n",
        "  #            return None\n",
        "          output=[]\n",
        "          output.append(str(vocabdic[self.word]) + \" \" +str(self.word_count))\n",
        "          if len(list(self.children.keys()))>0:\n",
        "              for i in (list(self.children.keys())):\n",
        "                  output.append(self.children[i].visittree())\n",
        "          return output\n",
        "\n",
        "  '''      Build FPTREE class and method       '''\n",
        "  class fptree:\n",
        "      def __init__(self, data, minsup=400):\n",
        "          #raw data and minminual support\n",
        "          self.data=data\n",
        "          self.minsup=minsup\n",
        "\n",
        "          #null root\n",
        "          self.root= node(word=\"Null\", word_count=1)\n",
        "\n",
        "          #each line of transaction with new order from the most frequent items to less\n",
        "          self.wordlinesort=[]\n",
        "          #node table containing link of all nodes of same word\n",
        "          self.nodetable=[]\n",
        "          #dictionary contaiing word more than the minsupport count with des order\n",
        "          self.wordsortdic=[]\n",
        "\n",
        "          #dictionaly containing word and the support count\n",
        "          self.worddic={}\n",
        "          #dictionary with word and it's postion of the support count rank\n",
        "          self.wordorderdic={}\n",
        "  #\n",
        "  #        self.preprocess(data)\n",
        "  #        #first scan to build all the necessay dictionary\n",
        "          self.construct(data)\n",
        "          #second scan and build fp tree line  by line\n",
        "      def construct(self, data):\n",
        "                  #get support count for all word\n",
        "          for tran in data:\n",
        "              for words in tran:\n",
        "                  if words in self.worddic.keys():\n",
        "                      self.worddic[words]+=1\n",
        "                  else:\n",
        "                      self.worddic[words]=1\n",
        "          wordlist = list(self.worddic.keys())\n",
        "          #prune all the world with < min support count\n",
        "          for word in wordlist:\n",
        "              if(self.worddic[word]<self.minsup):\n",
        "                  del self.worddic[word]\n",
        "          #sort the remaing items des, with first word count than work#id\n",
        "          self.wordsortdic = sorted(self.worddic.items(), key=lambda x: (-x[1],x[0]))\n",
        "          #create a table containing word, wordcount and all link node of that word\n",
        "          t=0\n",
        "          for i in self.wordsortdic:\n",
        "              word = i[0]\n",
        "              wordc = i[1]\n",
        "              self.wordorderdic[word]=t\n",
        "              t+=1\n",
        "              wordinfo = {'wordn':word, 'wordcc':wordc, 'linknode': None}\n",
        "              self.nodetable.append(wordinfo)\n",
        "          #construct fptree line by line\n",
        "\n",
        "          for line in data:\n",
        "              supword=[]\n",
        "              for word in line:\n",
        "                  #only keep words with support count higher than minsupport\n",
        "                  if word in self.worddic.keys():\n",
        "                      supword.append(word)\n",
        "            #insert words to the fp tree\n",
        "              if len(supword)>0:\n",
        "                  #reorder the words\n",
        "                  sortsupword = sorted(supword, key = lambda k: self.wordorderdic[k])\n",
        "                  self.wordlinesort.append(sortsupword)\n",
        "                  #enter the word one by one from begining\n",
        "                  R = self.root\n",
        "  #                print(sortsupword)\n",
        "                  for i in sortsupword:\n",
        "                      if i in R.children.keys():\n",
        "                          R.children[i].word_count +=1\n",
        "                          R=R.children[i]\n",
        "                      else:\n",
        "\n",
        "                          R.children[i] = node(word=i,word_count=1,parent=R,link=None)\n",
        "                          R=R.children[i]\n",
        "                          # link this node to nodetable\n",
        "                          for wordinfo in self.nodetable:\n",
        "                              if wordinfo[\"wordn\"] == R.word:\n",
        "                                  # find the last node of the  node linklist\n",
        "                                  if wordinfo[\"linknode\"] is None:\n",
        "                                      wordinfo[\"linknode\"] = R\n",
        "                                  else:\n",
        "                                      iter_node = wordinfo[\"linknode\"]\n",
        "                                      while(iter_node.link is not None):\n",
        "                                          iter_node = iter_node.link\n",
        "                                      iter_node.link = R\n",
        "\n",
        "  # create transactions for conditinal tree\n",
        "      def condtreetran(self,N):\n",
        "          if N.parent is None:\n",
        "              return None\n",
        "\n",
        "          condtreeline =[]\n",
        "          #starting from the leaf node reverse add word till hit root\n",
        "          while N is not None:\n",
        "              line=[]\n",
        "              PN = N.parent\n",
        "              while PN.parent is not None:\n",
        "                  line.append(PN.word)\n",
        "                  PN=PN.parent\n",
        "              #reverse order the transaction\n",
        "              line = line[::-1]\n",
        "              for i in range(N.word_count):\n",
        "                  condtreeline.append(line)\n",
        "              #move on to next linknode\n",
        "              N=N.link\n",
        "          return condtreeline\n",
        "\n",
        "  #Find frequent word list by creating conditional tree\n",
        "      def findfqt(self,parentnode=None):\n",
        "          if len(list(self.root.children.keys()))==0:\n",
        "              return None\n",
        "          result=[]\n",
        "          sup=self.minsup\n",
        "          #starting from the end of nodetable\n",
        "          revtable = self.nodetable[::-1]\n",
        "          for n in revtable:\n",
        "              fqset=[set(),0]\n",
        "              if(parentnode==None):\n",
        "                  fqset[0]={n['wordn'],}\n",
        "              else:\n",
        "                  fqset[0] = {n['wordn']}.union(parentnode[0])\n",
        "              fqset[1]=n['wordcc']\n",
        "              if (len(fqset[0])>1):\n",
        "                  result.append(fqset)\n",
        "              condtran = self.condtreetran(n['linknode'])\n",
        "              #recursively build the conditinal fp tree\n",
        "              contree= fptree(condtran,sup)\n",
        "              conwords = contree.findfqt(fqset)\n",
        "              if conwords is not None:\n",
        "                  for words in conwords:\n",
        "                      result.append(words)\n",
        "          return result\n",
        "\n",
        "  #check if tree hight is larger than 1\n",
        "      def checkheight(self):\n",
        "          if len(list(self.root.children.keys()))==0:\n",
        "              return False\n",
        "          else:\n",
        "              return True\n",
        "\n",
        "\n",
        "  min_sup=valueOfN\n",
        "  # import csv\n",
        "  # transaction_list = []\n",
        "  # with open('/content/DataSetAnew.csv', newline='\\n') as csvfile:\n",
        "  #     spamreader = csv.DictReader(csvfile, delimiter=',')\n",
        "  #     for row in spamreader:\n",
        "  #         items = [row['LIST']] + row.get(None, [])\n",
        "  #         transaction_list.append(items)\n",
        "  test_data = transaction_list\n",
        "  from datetime import datetime\n",
        "  start_time = datetime.now().microsecond\n",
        "  import time\n",
        "  starttemp = (time.time())\n",
        "  fp_tree = fptree(test_data, min_sup) #create FP tree on data\n",
        "  frequentwordset = fp_tree.findfqt() #mining frequent pattern\n",
        "  frequentwordset=sorted(frequentwordset,key = lambda k: -k[1] )\n",
        "  end_time = datetime.now().microsecond\n",
        "  endtemp = time.time()\n",
        "  timeDiff = endtemp-starttemp\n",
        "  print(endtemp-starttemp)\n",
        "  # for i in range(len(frequentwordset)):\n",
        "  #     if len(i[0])<2:\n",
        "  #         del frequentwordset[i]\n",
        "  #         # print(\"i len is \", len(i[0]))\n",
        "  #         # print(\"i[0] is \", i[0])\n",
        "  #         # print(\"i is \", i)\n",
        "  #     print(\"i len is \", len(i[0]))\n",
        "  #     print(\"i[0] is \", i[0])\n",
        "  #     print(\"i is \", i)\n",
        "  import psutil\n",
        "  import os\n",
        "  memory_end = psutil.Process(os.getpid()).memory_info().rss/1024**2\n",
        "  listtemp = []\n",
        "  yListMinSupport.append(len(frequentwordset))\n",
        "  print(len(frequentwordset))\n",
        "  yListTime.append(abs(timeDiff))\n",
        "  yListMemory.append(memory_end)\n",
        "  print((frequentwordset))\n",
        "  # print(fp_tree1.wordlinesort)\n",
        "\n",
        "  # self.wordlinesort=[]\n",
        "  #         #node table containing link of all nodes of same word\n",
        "  #         self.nodetable=[]\n",
        "  #         #dictionary contaiing word more than the minsupport count with des order\n",
        "  #         self.wordsortdic=[]\n",
        "\n",
        "  #         #dictionaly containing word and the support count\n",
        "  #         self.worddic={}\n",
        "  #         #dictionary with word and it's postion of the support count rank\n",
        "  #         self.wordorderdic={}\n",
        "\n",
        "  # # #print frequent patt\n",
        "  # # # for word in frequentwordset:\n",
        "  # # #     count = (str(word[1])+\"\\t\")\n",
        "  # # #     words =''\n",
        "  # #     for val in word[0]:\n",
        "  # #         words+= (str(vocabdic[val])+\" \")\n",
        "  # #     print(count+words)\n",
        "\n",
        "\n",
        "  # #print conditional fp tree height >1\n",
        "  # for i in fp_tree.nodetable[::-1]:\n",
        "  #     lines = fp_tree.condtreetran(i['linknode'])\n",
        "  #     condtree = fptree(lines,min_sup)\n",
        "  #     if(condtree.checkheight()):\n",
        "  #         print('Condtional FPTree Root on '+(vocabdic[i['wordn']]))\n",
        "  #         print(condtree.root.visittree())\n"
      ],
      "metadata": {
        "colab": {
          "base_uri": "https://localhost:8080/"
        },
        "id": "dynnEcklR-Zm",
        "outputId": "8134b732-0ca6-439a-aa4e-295139e3ca2b"
      },
      "execution_count": null,
      "outputs": [
        {
          "output_type": "stream",
          "name": "stdout",
          "text": [
            "46.83567953109741\n",
            "320\n",
            "[[{'result=0', 'hand4=13'}, 347581], [{'result=1', 'hand4=13'}, 292953], [{'hand4=13', 'hand5=3'}, 174370], [{'hand3=1', 'hand4=13'}, 173852], [{'hand5=4', 'hand4=13'}, 173663], [{'hand1=3', 'hand4=13'}, 173643], [{'hand3=4', 'hand4=13'}, 173414], [{'hand1=2', 'hand4=13'}, 173341], [{'hand1=4', 'hand4=13'}, 173338], [{'hand5=1', 'hand4=13'}, 173274], [{'hand1=1', 'hand4=13'}, 173126], [{'hand3=2', 'hand4=13'}, 173122], [{'hand3=3', 'hand4=13'}, 173064], [{'hand5=2', 'hand4=13'}, 172144], [{'result=0', 'hand5=3'}, 87254], [{'result=0', 'hand4=13', 'hand5=3'}, 87254], [{'hand3=4', 'result=0'}, 87188], [{'result=0', 'hand3=4', 'hand4=13'}, 87188], [{'hand3=1', 'result=0', 'hand4=13'}, 87097], [{'hand3=1', 'result=0'}, 87096], [{'hand5=1', 'result=0'}, 87085], [{'result=0', 'hand5=1', 'hand4=13'}, 87085], [{'result=0', 'hand1=4', 'hand4=13'}, 87057], [{'hand1=4', 'result=0'}, 87056], [{'hand5=4', 'result=0'}, 87051], [{'result=0', 'hand5=4', 'hand4=13'}, 87051], [{'hand1=3', 'result=0', 'hand4=13'}, 86939], [{'hand1=3', 'result=0'}, 86938], [{'hand1=1', 'result=0'}, 86843], [{'hand1=1', 'result=0', 'hand4=13'}, 86843], [{'hand3=3', 'result=0'}, 86767], [{'result=0', 'hand3=3', 'hand4=13'}, 86767], [{'hand1=2', 'result=0'}, 86742], [{'hand1=2', 'result=0', 'hand4=13'}, 86742], [{'result=0', 'hand3=2', 'hand4=13'}, 86528], [{'hand3=2', 'result=0'}, 86527], [{'hand5=2', 'result=0', 'hand4=13'}, 86191], [{'hand5=2', 'result=0'}, 86189], [{'result=1', 'hand4=13', 'hand5=3'}, 73715], [{'result=1', 'hand5=3'}, 73713], [{'result=1', 'hand3=1', 'hand4=13'}, 73609], [{'result=1', 'hand3=1'}, 73608], [{'result=1', 'hand5=4'}, 73335], [{'result=1', 'hand5=4', 'hand4=13'}, 73335], [{'result=1', 'hand3=2'}, 73333], [{'result=1', 'hand3=2', 'hand4=13'}, 73333], [{'result=1', 'hand1=3'}, 73319], [{'result=1', 'hand1=3', 'hand4=13'}, 73318], [{'result=1', 'hand1=2'}, 73302], [{'result=1', 'hand1=2', 'hand4=13'}, 73302], [{'result=1', 'hand3=3', 'hand4=13'}, 73186], [{'result=1', 'hand3=3'}, 73184], [{'result=1', 'hand1=4', 'hand4=13'}, 73181], [{'result=1', 'hand1=4'}, 73180], [{'result=1', 'hand1=1'}, 73151], [{'result=1', 'hand1=1', 'hand4=13'}, 73151], [{'result=1', 'hand5=2', 'hand4=13'}, 73039], [{'result=1', 'hand5=2'}, 73038], [{'result=1', 'hand5=1', 'hand4=13'}, 72867], [{'result=1', 'hand5=1'}, 72866], [{'result=1', 'hand3=4', 'hand4=13'}, 72829], [{'result=1', 'hand3=4'}, 72828], [{'hand2=11', 'hand4=13'}, 53515], [{'hand2=4', 'hand4=13'}, 53504], [{'hand4=13', 'hand2=6'}, 53476], [{'hand2=12', 'hand4=13'}, 53464], [{'hand2=1', 'hand4=13'}, 53458], [{'hand2=2', 'hand4=13'}, 53414], [{'hand2=5', 'hand4=13'}, 53380], [{'hand2=3', 'hand4=13'}, 53300], [{'hand2=8', 'hand4=13'}, 53272], [{'hand4=13', 'hand2=13'}, 53262], [{'hand2=10', 'hand4=13'}, 53185], [{'hand2=7', 'hand4=13'}, 53151], [{'hand2=9', 'hand4=13'}, 53066], [{'hand3=1', 'hand1=4', 'hand4=13'}, 44652], [{'hand3=1', 'hand1=4'}, 44650], [{'hand1=2', 'hand5=3'}, 44644], [{'hand1=2', 'hand4=13', 'hand5=3'}, 44644], [{'hand1=3', 'hand5=4'}, 44513], [{'hand1=3', 'hand5=4', 'hand4=13'}, 44513], [{'hand1=3', 'hand3=2', 'hand4=13'}, 44451], [{'hand1=3', 'hand3=2'}, 44450], [{'hand3=1', 'hand5=4'}, 44438], [{'hand3=1', 'hand5=4', 'hand4=13'}, 44438], [{'hand3=2', 'hand5=3'}, 44437], [{'hand3=2', 'hand4=13', 'hand5=3'}, 44437], [{'hand3=4', 'hand4=13', 'hand5=3'}, 44433], [{'hand3=4', 'hand5=3'}, 44431], [{'hand1=3', 'hand5=1'}, 44404], [{'hand1=3', 'hand5=1', 'hand4=13'}, 44404], [{'hand3=1', 'hand5=3'}, 44381], [{'hand3=1', 'hand4=13', 'hand5=3'}, 44381], [{'hand1=4', 'hand5=3'}, 44371], [{'hand1=4', 'hand4=13', 'hand5=3'}, 44371], [{'hand1=1', 'hand4=13', 'hand5=3'}, 44346], [{'hand1=1', 'hand5=3'}, 44344], [{'hand1=1', 'hand3=3', 'hand4=13'}, 44320], [{'hand1=1', 'hand3=3'}, 44319], [{'hand3=1', 'hand1=2'}, 44311], [{'hand3=1', 'hand1=2', 'hand4=13'}, 44311], [{'hand1=1', 'hand5=4'}, 44296], [{'hand1=1', 'hand5=4', 'hand4=13'}, 44296], [{'hand1=2', 'hand3=4'}, 44294], [{'hand1=2', 'hand3=4', 'hand4=13'}, 44294], [{'hand1=3', 'hand3=4'}, 44282], [{'hand1=3', 'hand3=4', 'hand4=13'}, 44282], [{'hand5=4', 'hand3=3'}, 44220], [{'hand5=4', 'hand3=3', 'hand4=13'}, 44220], [{'hand1=3', 'hand3=1'}, 44203], [{'hand1=3', 'hand3=1', 'hand4=13'}, 44203], [{'hand1=2', 'hand5=1'}, 44196], [{'hand1=2', 'hand5=1', 'hand4=13'}, 44196], [{'hand5=2', 'hand1=4', 'hand4=13'}, 44187], [{'hand3=2', 'hand5=4'}, 44187], [{'hand3=2', 'hand5=4', 'hand4=13'}, 44187], [{'hand5=2', 'hand1=4'}, 44185], [{'hand1=1', 'hand3=4', 'hand4=13'}, 44135], [{'hand1=1', 'hand3=4'}, 44134], [{'hand5=1', 'hand3=4'}, 44125], [{'hand5=1', 'hand3=4', 'hand4=13'}, 44125], [{'hand5=1', 'hand3=3', 'hand4=13'}, 44107], [{'hand5=1', 'hand3=3'}, 44106], [{'hand1=2', 'hand5=4'}, 44099], [{'hand1=2', 'hand5=4', 'hand4=13'}, 44099], [{'hand5=1', 'hand3=2'}, 44091], [{'hand5=1', 'hand4=13', 'hand3=2'}, 44091], [{'hand3=1', 'hand5=2', 'hand4=13'}, 44082], [{'hand3=1', 'hand5=2'}, 44080], [{'hand3=4', 'hand5=2'}, 44040], [{'hand5=2', 'hand3=4', 'hand4=13'}, 44040], [{'hand5=1', 'hand1=4', 'hand4=13'}, 44027], [{'hand1=4', 'hand3=3', 'hand4=13'}, 44026], [{'hand5=1', 'hand1=4'}, 44026], [{'hand3=3', 'hand1=4'}, 44025], [{'hand1=2', 'hand3=3'}, 44011], [{'hand1=2', 'hand3=3', 'hand4=13'}, 44011], [{'hand1=1', 'hand3=2'}, 43987], [{'hand1=1', 'hand3=2', 'hand4=13'}, 43987], [{'hand3=2', 'hand1=4'}, 43959], [{'hand3=2', 'hand1=4', 'hand4=13'}, 43959], [{'hand1=1', 'hand5=2'}, 43838], [{'hand1=1', 'hand5=2', 'hand4=13'}, 43838], [{'hand1=3', 'hand5=2', 'hand4=13'}, 43717], [{'hand1=3', 'hand5=2'}, 43716], [{'hand5=2', 'hand3=3', 'hand4=13'}, 43618], [{'hand3=3', 'hand5=2'}, 43617], [{'hand3=3', 'hand4=13', 'hand5=3'}, 41123], [{'hand3=3', 'hand5=3'}, 41121], [{'hand1=3', 'hand5=3'}, 41009], [{'hand1=3', 'hand4=13', 'hand5=3'}, 41009], [{'hand3=1', 'hand5=1', 'hand4=13'}, 40953], [{'hand3=1', 'hand5=1'}, 40952], [{'hand5=4', 'hand3=4'}, 40817], [{'hand5=4', 'hand3=4', 'hand4=13'}, 40817], [{'hand5=4', 'hand1=4'}, 40755], [{'hand5=4', 'hand1=4', 'hand4=13'}, 40755], [{'hand1=2', 'hand3=2'}, 40725], [{'hand1=2', 'hand3=2', 'hand4=13'}, 40725], [{'hand1=3', 'hand3=3'}, 40707], [{'hand1=3', 'hand3=3', 'hand4=13'}, 40707], [{'hand3=4', 'hand1=4'}, 40702], [{'hand3=4', 'hand1=4', 'hand4=13'}, 40702], [{'hand1=1', 'hand3=1'}, 40686], [{'hand1=1', 'hand3=1', 'hand4=13'}, 40686], [{'hand1=1', 'hand5=1'}, 40647], [{'hand1=1', 'hand5=1', 'hand4=13'}, 40647], [{'hand5=2', 'hand3=2', 'hand4=13'}, 40406], [{'hand3=2', 'hand5=2'}, 40405], [{'hand1=2', 'hand5=2'}, 40401], [{'hand5=2', 'hand1=2', 'hand4=13'}, 40401], [{'result=2', 'hand4=13'}, 33059], [{'hand2=1', 'result=0'}, 26988], [{'hand2=1', 'result=0', 'hand4=13'}, 26988], [{'hand2=4', 'result=0'}, 26919], [{'result=0', 'hand2=4', 'hand4=13'}, 26919], [{'hand2=11', 'result=0'}, 26918], [{'result=0', 'hand2=11', 'hand4=13'}, 26918], [{'hand2=3', 'result=0'}, 26866], [{'hand2=3', 'result=0', 'hand4=13'}, 26866], [{'hand2=2', 'result=0'}, 26822], [{'hand2=2', 'result=0', 'hand4=13'}, 26822], [{'hand2=7', 'result=0'}, 26782], [{'result=0', 'hand2=7', 'hand4=13'}, 26782], [{'hand2=12', 'result=0', 'hand4=13'}, 26723], [{'hand2=12', 'result=0'}, 26722], [{'hand2=5', 'result=0'}, 26694], [{'hand2=5', 'result=0', 'hand4=13'}, 26694], [{'result=0', 'hand4=13', 'hand2=13'}, 26686], [{'result=0', 'hand2=13'}, 26685], [{'hand2=8', 'result=0'}, 26649], [{'result=0', 'hand2=8', 'hand4=13'}, 26649], [{'result=0', 'hand2=6'}, 26623], [{'result=0', 'hand4=13', 'hand2=6'}, 26623], [{'hand2=9', 'result=0'}, 26515], [{'hand2=9', 'result=0', 'hand4=13'}, 26515], [{'hand2=10', 'result=0'}, 26394], [{'hand2=10', 'result=0', 'hand4=13'}, 26394], [{'result=1', 'hand2=6'}, 22739], [{'result=1', 'hand4=13', 'hand2=6'}, 22739], [{'result=1', 'hand2=2'}, 22642], [{'result=1', 'hand2=2', 'hand4=13'}, 22642], [{'result=1', 'hand2=12', 'hand4=13'}, 22639], [{'result=1', 'hand2=12'}, 22638], [{'result=1', 'hand2=11'}, 22598], [{'result=1', 'hand2=11', 'hand4=13'}, 22598], [{'result=1', 'hand2=10'}, 22591], [{'result=1', 'hand2=10', 'hand4=13'}, 22590], [{'result=1', 'hand2=8'}, 22554], [{'result=1', 'hand2=8', 'hand4=13'}, 22554], [{'result=1', 'hand2=13'}, 22533], [{'result=1', 'hand4=13', 'hand2=13'}, 22533], [{'result=1', 'hand2=4'}, 22526], [{'result=1', 'hand2=4', 'hand4=13'}, 22526], [{'result=1', 'hand2=1'}, 22517], [{'result=1', 'hand2=1', 'hand4=13'}, 22517], [{'result=1', 'hand2=9'}, 22468], [{'result=1', 'hand2=9', 'hand4=13'}, 22468], [{'result=1', 'hand2=5', 'hand4=13'}, 22466], [{'result=1', 'hand2=5'}, 22465], [{'result=1', 'hand2=3'}, 22344], [{'result=1', 'hand4=13', 'hand2=3'}, 22344], [{'result=1', 'hand2=7', 'hand4=13'}, 22337], [{'result=1', 'hand2=7'}, 22336], [{'hand3=1', 'result=0', 'hand1=4', 'hand4=13'}, 22106], [{'hand3=1', 'hand1=4', 'result=0'}, 22105], [{'hand1=3', 'hand3=4', 'result=0'}, 22057], [{'hand1=3', 'result=0', 'hand3=4', 'hand4=13'}, 22057], [{'hand3=1', 'result=0', 'hand5=3'}, 21931], [{'hand3=1', 'result=0', 'hand4=13', 'hand5=3'}, 21931], [{'hand1=2', 'result=0', 'hand5=3'}, 21925], [{'hand1=2', 'result=0', 'hand4=13', 'hand5=3'}, 21925], [{'hand1=4', 'result=0', 'hand5=3'}, 21921], [{'result=0', 'hand1=4', 'hand4=13', 'hand5=3'}, 21921], [{'hand3=4', 'result=0', 'hand5=3'}, 21905], [{'result=0', 'hand3=4', 'hand4=13', 'hand5=3'}, 21905], [{'hand1=3', 'hand5=1', 'result=0'}, 21904], [{'hand1=3', 'result=0', 'hand5=1', 'hand4=13'}, 21904], [{'hand5=1', 'hand3=4', 'result=0'}, 21888], [{'result=0', 'hand5=1', 'hand3=4', 'hand4=13'}, 21888], [{'hand3=2', 'result=0', 'hand5=3'}, 21881], [{'result=0', 'hand3=2', 'hand4=13', 'hand5=3'}, 21881], [{'hand5=2', 'result=0', 'hand1=4', 'hand4=13'}, 21880], [{'hand5=2', 'hand1=4', 'result=0'}, 21879], [{'hand1=1', 'hand5=4', 'result=0'}, 21875], [{'hand1=1', 'result=0', 'hand5=4', 'hand4=13'}, 21875], [{'hand1=3', 'hand5=4', 'result=0'}, 21870], [{'hand1=3', 'result=0', 'hand5=4', 'hand4=13'}, 21870], [{'hand1=1', 'result=0', 'hand5=3'}, 21863], [{'hand1=1', 'result=0', 'hand4=13', 'hand5=3'}, 21863], [{'hand5=4', 'hand3=3', 'result=0'}, 21843], [{'result=0', 'hand5=4', 'hand3=3', 'hand4=13'}, 21843], [{'hand1=1', 'hand3=2', 'result=0'}, 21842], [{'hand1=1', 'result=0', 'hand3=2', 'hand4=13'}, 21842], [{'hand1=1', 'hand3=4', 'result=0'}, 21839], [{'hand1=1', 'result=0', 'hand3=4', 'hand4=13'}, 21839], [{'hand1=2', 'hand5=4', 'result=0'}, 21831], [{'hand1=2', 'result=0', 'hand5=4', 'hand4=13'}, 21831], [{'hand1=4', 'hand3=3', 'result=0'}, 21827], [{'result=0', 'hand3=3', 'hand1=4', 'hand4=13'}, 21827], [{'hand1=2', 'hand3=3', 'result=0'}, 21815], [{'hand1=2', 'result=0', 'hand3=3', 'hand4=13'}, 21815], [{'hand1=2', 'hand5=1', 'result=0'}, 21815], [{'result=0', 'hand1=2', 'hand5=1', 'hand4=13'}, 21815], [{'hand5=1', 'hand3=3', 'result=0'}, 21810], [{'result=0', 'hand5=1', 'hand3=3', 'hand4=13'}, 21810], [{'hand3=1', 'hand1=2', 'result=0'}, 21807], [{'hand3=1', 'hand1=2', 'result=0', 'hand4=13'}, 21807], [{'hand1=3', 'hand3=1', 'result=0'}, 21807], [{'hand1=3', 'hand3=1', 'result=0', 'hand4=13'}, 21807], [{'hand3=2', 'hand5=4', 'result=0'}, 21805], [{'result=0', 'hand3=2', 'hand5=4', 'hand4=13'}, 21805], [{'hand3=1', 'hand5=4', 'result=0'}, 21792], [{'hand3=1', 'result=0', 'hand5=4', 'hand4=13'}, 21792], [{'hand5=2', 'hand3=4', 'result=0'}, 21785], [{'hand5=2', 'result=0', 'hand3=4', 'hand4=13'}, 21785], [{'hand1=1', 'hand3=3', 'result=0'}, 21785], [{'hand1=1', 'result=0', 'hand3=3', 'hand4=13'}, 21785], [{'hand5=1', 'hand1=4', 'result=0'}, 21781], [{'result=0', 'hand5=1', 'hand1=4', 'hand4=13'}, 21781], [{'hand5=1', 'result=0', 'hand3=2'}, 21779], [{'result=0', 'hand5=1', 'hand4=13', 'hand3=2'}, 21779], [{'hand1=2', 'hand3=4', 'result=0'}, 21777], [{'hand1=2', 'result=0', 'hand3=4', 'hand4=13'}, 21777], [{'hand3=1', 'hand5=2', 'result=0', 'hand4=13'}, 21766], [{'hand3=1', 'hand5=2', 'result=0'}, 21765], [{'hand1=3', 'result=0', 'hand3=2', 'hand4=13'}, 21735], [{'hand1=3', 'hand3=2', 'result=0'}, 21734], [{'hand1=3', 'hand5=2', 'result=0', 'hand4=13'}, 21620], [{'hand1=3', 'hand5=2', 'result=0'}, 21619], [{'hand5=4', 'hand3=4', 'result=0'}, 21610], [{'result=0', 'hand5=4', 'hand3=4', 'hand4=13'}, 21610], [{'hand3=2', 'hand1=4', 'result=0'}, 21608], [{'result=0', 'hand3=2', 'hand1=4', 'hand4=13'}, 21608], [{'hand3=1', 'hand5=1', 'result=0'}, 21608], [{'hand3=1', 'result=0', 'hand5=1', 'hand4=13'}, 21608], [{'hand1=1', 'hand5=1', 'result=0'}, 21585], [{'hand1=1', 'result=0', 'hand5=1', 'hand4=13'}, 21585], [{'hand5=2', 'hand3=3', 'result=0'}, 21577], [{'hand5=2', 'result=0', 'hand3=3', 'hand4=13'}, 21577], [{'hand1=3', 'result=0', 'hand5=3'}, 21545], [{'hand1=3', 'result=0', 'hand4=13', 'hand5=3'}, 21545], [{'hand3=3', 'result=0', 'hand5=3'}, 21537], [{'result=0', 'hand3=3', 'hand4=13', 'hand5=3'}, 21537], [{'hand1=1', 'hand5=2', 'result=0'}, 21520], [{'hand1=1', 'hand5=2', 'result=0', 'hand4=13'}, 21520], [{'hand3=4', 'hand1=4', 'result=0'}, 21515], [{'result=0', 'hand3=4', 'hand1=4', 'hand4=13'}, 21515], [{'hand5=4', 'hand1=4', 'result=0'}, 21475], [{'result=0', 'hand5=4', 'hand1=4', 'hand4=13'}, 21475], [{'hand1=1', 'hand3=1', 'result=0'}, 21377], [{'hand1=1', 'hand3=1', 'result=0', 'hand4=13'}, 21377], [{'hand1=2', 'hand3=2', 'result=0'}, 21343], [{'result=0', 'hand1=2', 'hand3=2', 'hand4=13'}, 21343], [{'hand1=3', 'hand3=3', 'result=0'}, 21340], [{'hand1=3', 'result=0', 'hand3=3', 'hand4=13'}, 21340], [{'hand5=2', 'hand1=2', 'result=0'}, 21171], [{'hand5=2', 'result=0', 'hand4=13', 'hand1=2'}, 21171], [{'result=0', 'hand5=2', 'hand3=2', 'hand4=13'}, 21063], [{'hand5=2', 'hand3=2', 'result=0'}, 21062]]\n",
            "40.084030628204346\n",
            "172\n",
            "[[{'result=0', 'hand4=13'}, 347581], [{'result=1', 'hand4=13'}, 292953], [{'hand4=13', 'hand5=3'}, 174370], [{'hand3=1', 'hand4=13'}, 173852], [{'hand5=4', 'hand4=13'}, 173663], [{'hand1=3', 'hand4=13'}, 173643], [{'hand3=4', 'hand4=13'}, 173414], [{'hand1=2', 'hand4=13'}, 173341], [{'hand1=4', 'hand4=13'}, 173338], [{'hand5=1', 'hand4=13'}, 173274], [{'hand1=1', 'hand4=13'}, 173126], [{'hand3=2', 'hand4=13'}, 173122], [{'hand3=3', 'hand4=13'}, 173064], [{'hand5=2', 'hand4=13'}, 172144], [{'result=0', 'hand5=3'}, 87254], [{'result=0', 'hand4=13', 'hand5=3'}, 87254], [{'hand3=4', 'result=0'}, 87188], [{'result=0', 'hand3=4', 'hand4=13'}, 87188], [{'hand3=1', 'result=0', 'hand4=13'}, 87097], [{'hand3=1', 'result=0'}, 87096], [{'hand5=1', 'result=0'}, 87085], [{'result=0', 'hand5=1', 'hand4=13'}, 87085], [{'result=0', 'hand1=4', 'hand4=13'}, 87057], [{'hand1=4', 'result=0'}, 87056], [{'hand5=4', 'result=0'}, 87051], [{'result=0', 'hand5=4', 'hand4=13'}, 87051], [{'hand1=3', 'result=0', 'hand4=13'}, 86939], [{'hand1=3', 'result=0'}, 86938], [{'hand1=1', 'result=0'}, 86843], [{'hand1=1', 'result=0', 'hand4=13'}, 86843], [{'hand3=3', 'result=0'}, 86767], [{'result=0', 'hand3=3', 'hand4=13'}, 86767], [{'hand1=2', 'result=0'}, 86742], [{'hand1=2', 'result=0', 'hand4=13'}, 86742], [{'result=0', 'hand3=2', 'hand4=13'}, 86528], [{'hand3=2', 'result=0'}, 86527], [{'hand5=2', 'result=0', 'hand4=13'}, 86191], [{'hand5=2', 'result=0'}, 86189], [{'result=1', 'hand4=13', 'hand5=3'}, 73715], [{'result=1', 'hand5=3'}, 73713], [{'result=1', 'hand3=1', 'hand4=13'}, 73609], [{'result=1', 'hand3=1'}, 73608], [{'result=1', 'hand5=4'}, 73335], [{'result=1', 'hand5=4', 'hand4=13'}, 73335], [{'result=1', 'hand3=2'}, 73333], [{'result=1', 'hand3=2', 'hand4=13'}, 73333], [{'result=1', 'hand1=3'}, 73319], [{'result=1', 'hand1=3', 'hand4=13'}, 73318], [{'result=1', 'hand1=2'}, 73302], [{'result=1', 'hand1=2', 'hand4=13'}, 73302], [{'result=1', 'hand3=3', 'hand4=13'}, 73186], [{'result=1', 'hand3=3'}, 73184], [{'result=1', 'hand1=4', 'hand4=13'}, 73181], [{'result=1', 'hand1=4'}, 73180], [{'result=1', 'hand1=1'}, 73151], [{'result=1', 'hand1=1', 'hand4=13'}, 73151], [{'result=1', 'hand5=2', 'hand4=13'}, 73039], [{'result=1', 'hand5=2'}, 73038], [{'result=1', 'hand5=1', 'hand4=13'}, 72867], [{'result=1', 'hand5=1'}, 72866], [{'result=1', 'hand3=4', 'hand4=13'}, 72829], [{'result=1', 'hand3=4'}, 72828], [{'hand2=11', 'hand4=13'}, 53515], [{'hand2=4', 'hand4=13'}, 53504], [{'hand4=13', 'hand2=6'}, 53476], [{'hand2=12', 'hand4=13'}, 53464], [{'hand2=1', 'hand4=13'}, 53458], [{'hand2=2', 'hand4=13'}, 53414], [{'hand2=5', 'hand4=13'}, 53380], [{'hand2=3', 'hand4=13'}, 53300], [{'hand2=8', 'hand4=13'}, 53272], [{'hand4=13', 'hand2=13'}, 53262], [{'hand2=10', 'hand4=13'}, 53185], [{'hand2=7', 'hand4=13'}, 53151], [{'hand2=9', 'hand4=13'}, 53066], [{'hand3=1', 'hand1=4', 'hand4=13'}, 44652], [{'hand3=1', 'hand1=4'}, 44650], [{'hand1=2', 'hand5=3'}, 44644], [{'hand1=2', 'hand4=13', 'hand5=3'}, 44644], [{'hand1=3', 'hand5=4'}, 44513], [{'hand1=3', 'hand5=4', 'hand4=13'}, 44513], [{'hand1=3', 'hand3=2', 'hand4=13'}, 44451], [{'hand1=3', 'hand3=2'}, 44450], [{'hand3=1', 'hand5=4'}, 44438], [{'hand3=1', 'hand5=4', 'hand4=13'}, 44438], [{'hand3=2', 'hand5=3'}, 44437], [{'hand3=2', 'hand4=13', 'hand5=3'}, 44437], [{'hand3=4', 'hand4=13', 'hand5=3'}, 44433], [{'hand3=4', 'hand5=3'}, 44431], [{'hand1=3', 'hand5=1'}, 44404], [{'hand1=3', 'hand5=1', 'hand4=13'}, 44404], [{'hand3=1', 'hand5=3'}, 44381], [{'hand3=1', 'hand4=13', 'hand5=3'}, 44381], [{'hand1=4', 'hand5=3'}, 44371], [{'hand1=4', 'hand4=13', 'hand5=3'}, 44371], [{'hand1=1', 'hand4=13', 'hand5=3'}, 44346], [{'hand1=1', 'hand5=3'}, 44344], [{'hand1=1', 'hand3=3', 'hand4=13'}, 44320], [{'hand1=1', 'hand3=3'}, 44319], [{'hand3=1', 'hand1=2'}, 44311], [{'hand3=1', 'hand1=2', 'hand4=13'}, 44311], [{'hand1=1', 'hand5=4'}, 44296], [{'hand1=1', 'hand5=4', 'hand4=13'}, 44296], [{'hand1=2', 'hand3=4'}, 44294], [{'hand1=2', 'hand3=4', 'hand4=13'}, 44294], [{'hand1=3', 'hand3=4'}, 44282], [{'hand1=3', 'hand3=4', 'hand4=13'}, 44282], [{'hand5=4', 'hand3=3'}, 44220], [{'hand5=4', 'hand3=3', 'hand4=13'}, 44220], [{'hand1=3', 'hand3=1'}, 44203], [{'hand1=3', 'hand3=1', 'hand4=13'}, 44203], [{'hand1=2', 'hand5=1'}, 44196], [{'hand1=2', 'hand5=1', 'hand4=13'}, 44196], [{'hand5=2', 'hand1=4', 'hand4=13'}, 44187], [{'hand3=2', 'hand5=4'}, 44187], [{'hand3=2', 'hand5=4', 'hand4=13'}, 44187], [{'hand5=2', 'hand1=4'}, 44185], [{'hand1=1', 'hand3=4', 'hand4=13'}, 44135], [{'hand1=1', 'hand3=4'}, 44134], [{'hand5=1', 'hand3=4'}, 44125], [{'hand5=1', 'hand3=4', 'hand4=13'}, 44125], [{'hand5=1', 'hand3=3', 'hand4=13'}, 44107], [{'hand5=1', 'hand3=3'}, 44106], [{'hand1=2', 'hand5=4'}, 44099], [{'hand1=2', 'hand5=4', 'hand4=13'}, 44099], [{'hand5=1', 'hand3=2'}, 44091], [{'hand5=1', 'hand4=13', 'hand3=2'}, 44091], [{'hand3=1', 'hand5=2', 'hand4=13'}, 44082], [{'hand3=1', 'hand5=2'}, 44080], [{'hand3=4', 'hand5=2'}, 44040], [{'hand5=2', 'hand3=4', 'hand4=13'}, 44040], [{'hand5=1', 'hand1=4', 'hand4=13'}, 44027], [{'hand1=4', 'hand3=3', 'hand4=13'}, 44026], [{'hand5=1', 'hand1=4'}, 44026], [{'hand3=3', 'hand1=4'}, 44025], [{'hand1=2', 'hand3=3'}, 44011], [{'hand1=2', 'hand3=3', 'hand4=13'}, 44011], [{'hand1=1', 'hand3=2'}, 43987], [{'hand1=1', 'hand3=2', 'hand4=13'}, 43987], [{'hand3=2', 'hand1=4'}, 43959], [{'hand3=2', 'hand1=4', 'hand4=13'}, 43959], [{'hand1=1', 'hand5=2'}, 43838], [{'hand1=1', 'hand5=2', 'hand4=13'}, 43838], [{'hand1=3', 'hand5=2', 'hand4=13'}, 43717], [{'hand1=3', 'hand5=2'}, 43716], [{'hand5=2', 'hand3=3', 'hand4=13'}, 43618], [{'hand3=3', 'hand5=2'}, 43617], [{'hand3=3', 'hand4=13', 'hand5=3'}, 41123], [{'hand3=3', 'hand5=3'}, 41121], [{'hand1=3', 'hand5=3'}, 41009], [{'hand1=3', 'hand4=13', 'hand5=3'}, 41009], [{'hand3=1', 'hand5=1', 'hand4=13'}, 40953], [{'hand3=1', 'hand5=1'}, 40952], [{'hand5=4', 'hand3=4'}, 40817], [{'hand5=4', 'hand3=4', 'hand4=13'}, 40817], [{'hand5=4', 'hand1=4'}, 40755], [{'hand5=4', 'hand1=4', 'hand4=13'}, 40755], [{'hand1=2', 'hand3=2'}, 40725], [{'hand1=2', 'hand3=2', 'hand4=13'}, 40725], [{'hand1=3', 'hand3=3'}, 40707], [{'hand1=3', 'hand3=3', 'hand4=13'}, 40707], [{'hand3=4', 'hand1=4'}, 40702], [{'hand3=4', 'hand1=4', 'hand4=13'}, 40702], [{'hand1=1', 'hand3=1'}, 40686], [{'hand1=1', 'hand3=1', 'hand4=13'}, 40686], [{'hand1=1', 'hand5=1'}, 40647], [{'hand1=1', 'hand5=1', 'hand4=13'}, 40647], [{'hand5=2', 'hand3=2', 'hand4=13'}, 40406], [{'hand3=2', 'hand5=2'}, 40405], [{'hand1=2', 'hand5=2'}, 40401], [{'hand5=2', 'hand1=2', 'hand4=13'}, 40401], [{'result=2', 'hand4=13'}, 33059]]\n",
            "41.11036944389343\n",
            "171\n",
            "[[{'result=0', 'hand4=13'}, 347581], [{'result=1', 'hand4=13'}, 292953], [{'hand4=13', 'hand5=3'}, 174370], [{'hand3=1', 'hand4=13'}, 173852], [{'hand5=4', 'hand4=13'}, 173663], [{'hand1=3', 'hand4=13'}, 173643], [{'hand3=4', 'hand4=13'}, 173414], [{'hand1=2', 'hand4=13'}, 173341], [{'hand1=4', 'hand4=13'}, 173338], [{'hand5=1', 'hand4=13'}, 173274], [{'hand1=1', 'hand4=13'}, 173126], [{'hand3=2', 'hand4=13'}, 173122], [{'hand3=3', 'hand4=13'}, 173064], [{'hand5=2', 'hand4=13'}, 172144], [{'result=0', 'hand5=3'}, 87254], [{'result=0', 'hand4=13', 'hand5=3'}, 87254], [{'hand3=4', 'result=0'}, 87188], [{'result=0', 'hand3=4', 'hand4=13'}, 87188], [{'hand3=1', 'result=0', 'hand4=13'}, 87097], [{'hand3=1', 'result=0'}, 87096], [{'hand5=1', 'result=0'}, 87085], [{'result=0', 'hand5=1', 'hand4=13'}, 87085], [{'result=0', 'hand1=4', 'hand4=13'}, 87057], [{'hand1=4', 'result=0'}, 87056], [{'hand5=4', 'result=0'}, 87051], [{'result=0', 'hand5=4', 'hand4=13'}, 87051], [{'hand1=3', 'result=0', 'hand4=13'}, 86939], [{'hand1=3', 'result=0'}, 86938], [{'hand1=1', 'result=0'}, 86843], [{'hand1=1', 'result=0', 'hand4=13'}, 86843], [{'hand3=3', 'result=0'}, 86767], [{'result=0', 'hand3=3', 'hand4=13'}, 86767], [{'hand1=2', 'result=0'}, 86742], [{'hand1=2', 'result=0', 'hand4=13'}, 86742], [{'result=0', 'hand3=2', 'hand4=13'}, 86528], [{'hand3=2', 'result=0'}, 86527], [{'hand5=2', 'result=0', 'hand4=13'}, 86191], [{'hand5=2', 'result=0'}, 86189], [{'result=1', 'hand4=13', 'hand5=3'}, 73715], [{'result=1', 'hand5=3'}, 73713], [{'result=1', 'hand3=1', 'hand4=13'}, 73609], [{'result=1', 'hand3=1'}, 73608], [{'result=1', 'hand5=4'}, 73335], [{'result=1', 'hand5=4', 'hand4=13'}, 73335], [{'result=1', 'hand3=2'}, 73333], [{'result=1', 'hand3=2', 'hand4=13'}, 73333], [{'result=1', 'hand1=3'}, 73319], [{'result=1', 'hand1=3', 'hand4=13'}, 73318], [{'result=1', 'hand1=2'}, 73302], [{'result=1', 'hand1=2', 'hand4=13'}, 73302], [{'result=1', 'hand3=3', 'hand4=13'}, 73186], [{'result=1', 'hand3=3'}, 73184], [{'result=1', 'hand1=4', 'hand4=13'}, 73181], [{'result=1', 'hand1=4'}, 73180], [{'result=1', 'hand1=1'}, 73151], [{'result=1', 'hand1=1', 'hand4=13'}, 73151], [{'result=1', 'hand5=2', 'hand4=13'}, 73039], [{'result=1', 'hand5=2'}, 73038], [{'result=1', 'hand5=1', 'hand4=13'}, 72867], [{'result=1', 'hand5=1'}, 72866], [{'result=1', 'hand3=4', 'hand4=13'}, 72829], [{'result=1', 'hand3=4'}, 72828], [{'hand2=11', 'hand4=13'}, 53515], [{'hand2=4', 'hand4=13'}, 53504], [{'hand4=13', 'hand2=6'}, 53476], [{'hand2=12', 'hand4=13'}, 53464], [{'hand2=1', 'hand4=13'}, 53458], [{'hand2=2', 'hand4=13'}, 53414], [{'hand2=5', 'hand4=13'}, 53380], [{'hand2=3', 'hand4=13'}, 53300], [{'hand2=8', 'hand4=13'}, 53272], [{'hand4=13', 'hand2=13'}, 53262], [{'hand2=10', 'hand4=13'}, 53185], [{'hand2=7', 'hand4=13'}, 53151], [{'hand2=9', 'hand4=13'}, 53066], [{'hand3=1', 'hand1=4', 'hand4=13'}, 44652], [{'hand3=1', 'hand1=4'}, 44650], [{'hand1=2', 'hand5=3'}, 44644], [{'hand1=2', 'hand4=13', 'hand5=3'}, 44644], [{'hand1=3', 'hand5=4'}, 44513], [{'hand1=3', 'hand5=4', 'hand4=13'}, 44513], [{'hand1=3', 'hand3=2', 'hand4=13'}, 44451], [{'hand1=3', 'hand3=2'}, 44450], [{'hand3=1', 'hand5=4'}, 44438], [{'hand3=1', 'hand5=4', 'hand4=13'}, 44438], [{'hand3=2', 'hand5=3'}, 44437], [{'hand3=2', 'hand4=13', 'hand5=3'}, 44437], [{'hand3=4', 'hand4=13', 'hand5=3'}, 44433], [{'hand3=4', 'hand5=3'}, 44431], [{'hand1=3', 'hand5=1'}, 44404], [{'hand1=3', 'hand5=1', 'hand4=13'}, 44404], [{'hand3=1', 'hand5=3'}, 44381], [{'hand3=1', 'hand4=13', 'hand5=3'}, 44381], [{'hand1=4', 'hand5=3'}, 44371], [{'hand1=4', 'hand4=13', 'hand5=3'}, 44371], [{'hand1=1', 'hand4=13', 'hand5=3'}, 44346], [{'hand1=1', 'hand5=3'}, 44344], [{'hand1=1', 'hand3=3', 'hand4=13'}, 44320], [{'hand1=1', 'hand3=3'}, 44319], [{'hand3=1', 'hand1=2'}, 44311], [{'hand3=1', 'hand1=2', 'hand4=13'}, 44311], [{'hand1=1', 'hand5=4'}, 44296], [{'hand1=1', 'hand5=4', 'hand4=13'}, 44296], [{'hand1=2', 'hand3=4'}, 44294], [{'hand1=2', 'hand3=4', 'hand4=13'}, 44294], [{'hand1=3', 'hand3=4'}, 44282], [{'hand1=3', 'hand3=4', 'hand4=13'}, 44282], [{'hand5=4', 'hand3=3'}, 44220], [{'hand5=4', 'hand3=3', 'hand4=13'}, 44220], [{'hand1=3', 'hand3=1'}, 44203], [{'hand1=3', 'hand3=1', 'hand4=13'}, 44203], [{'hand1=2', 'hand5=1'}, 44196], [{'hand1=2', 'hand5=1', 'hand4=13'}, 44196], [{'hand5=2', 'hand1=4', 'hand4=13'}, 44187], [{'hand3=2', 'hand5=4'}, 44187], [{'hand3=2', 'hand5=4', 'hand4=13'}, 44187], [{'hand5=2', 'hand1=4'}, 44185], [{'hand1=1', 'hand3=4', 'hand4=13'}, 44135], [{'hand1=1', 'hand3=4'}, 44134], [{'hand5=1', 'hand3=4'}, 44125], [{'hand5=1', 'hand3=4', 'hand4=13'}, 44125], [{'hand5=1', 'hand3=3', 'hand4=13'}, 44107], [{'hand5=1', 'hand3=3'}, 44106], [{'hand1=2', 'hand5=4'}, 44099], [{'hand1=2', 'hand5=4', 'hand4=13'}, 44099], [{'hand5=1', 'hand3=2'}, 44091], [{'hand5=1', 'hand4=13', 'hand3=2'}, 44091], [{'hand3=1', 'hand5=2', 'hand4=13'}, 44082], [{'hand3=1', 'hand5=2'}, 44080], [{'hand3=4', 'hand5=2'}, 44040], [{'hand5=2', 'hand3=4', 'hand4=13'}, 44040], [{'hand5=1', 'hand1=4', 'hand4=13'}, 44027], [{'hand1=4', 'hand3=3', 'hand4=13'}, 44026], [{'hand5=1', 'hand1=4'}, 44026], [{'hand3=3', 'hand1=4'}, 44025], [{'hand1=2', 'hand3=3'}, 44011], [{'hand1=2', 'hand3=3', 'hand4=13'}, 44011], [{'hand1=1', 'hand3=2'}, 43987], [{'hand1=1', 'hand3=2', 'hand4=13'}, 43987], [{'hand3=2', 'hand1=4'}, 43959], [{'hand3=2', 'hand1=4', 'hand4=13'}, 43959], [{'hand1=1', 'hand5=2'}, 43838], [{'hand1=1', 'hand5=2', 'hand4=13'}, 43838], [{'hand1=3', 'hand5=2', 'hand4=13'}, 43717], [{'hand1=3', 'hand5=2'}, 43716], [{'hand5=2', 'hand3=3', 'hand4=13'}, 43618], [{'hand3=3', 'hand5=2'}, 43617], [{'hand3=3', 'hand4=13', 'hand5=3'}, 41123], [{'hand3=3', 'hand5=3'}, 41121], [{'hand1=3', 'hand5=3'}, 41009], [{'hand1=3', 'hand4=13', 'hand5=3'}, 41009], [{'hand3=1', 'hand5=1', 'hand4=13'}, 40953], [{'hand3=1', 'hand5=1'}, 40952], [{'hand5=4', 'hand3=4'}, 40817], [{'hand5=4', 'hand3=4', 'hand4=13'}, 40817], [{'hand5=4', 'hand1=4'}, 40755], [{'hand5=4', 'hand1=4', 'hand4=13'}, 40755], [{'hand1=2', 'hand3=2'}, 40725], [{'hand1=2', 'hand3=2', 'hand4=13'}, 40725], [{'hand1=3', 'hand3=3'}, 40707], [{'hand1=3', 'hand3=3', 'hand4=13'}, 40707], [{'hand3=4', 'hand1=4'}, 40702], [{'hand3=4', 'hand1=4', 'hand4=13'}, 40702], [{'hand1=1', 'hand3=1'}, 40686], [{'hand1=1', 'hand3=1', 'hand4=13'}, 40686], [{'hand1=1', 'hand5=1'}, 40647], [{'hand1=1', 'hand5=1', 'hand4=13'}, 40647], [{'hand5=2', 'hand3=2', 'hand4=13'}, 40406], [{'hand3=2', 'hand5=2'}, 40405], [{'hand1=2', 'hand5=2'}, 40401], [{'hand5=2', 'hand1=2', 'hand4=13'}, 40401]]\n",
            "30.787748098373413\n",
            "75\n",
            "[[{'result=0', 'hand4=13'}, 347581], [{'result=1', 'hand4=13'}, 292953], [{'hand4=13', 'hand5=3'}, 174370], [{'hand3=1', 'hand4=13'}, 173852], [{'hand5=4', 'hand4=13'}, 173663], [{'hand1=3', 'hand4=13'}, 173643], [{'hand3=4', 'hand4=13'}, 173414], [{'hand1=2', 'hand4=13'}, 173341], [{'hand1=4', 'hand4=13'}, 173338], [{'hand5=1', 'hand4=13'}, 173274], [{'hand1=1', 'hand4=13'}, 173126], [{'hand3=2', 'hand4=13'}, 173122], [{'hand3=3', 'hand4=13'}, 173064], [{'hand5=2', 'hand4=13'}, 172144], [{'result=0', 'hand5=3'}, 87254], [{'result=0', 'hand4=13', 'hand5=3'}, 87254], [{'hand3=4', 'result=0'}, 87188], [{'result=0', 'hand3=4', 'hand4=13'}, 87188], [{'hand3=1', 'result=0', 'hand4=13'}, 87097], [{'hand3=1', 'result=0'}, 87096], [{'hand5=1', 'result=0'}, 87085], [{'result=0', 'hand5=1', 'hand4=13'}, 87085], [{'result=0', 'hand1=4', 'hand4=13'}, 87057], [{'hand1=4', 'result=0'}, 87056], [{'hand5=4', 'result=0'}, 87051], [{'result=0', 'hand5=4', 'hand4=13'}, 87051], [{'hand1=3', 'result=0', 'hand4=13'}, 86939], [{'hand1=3', 'result=0'}, 86938], [{'hand1=1', 'result=0'}, 86843], [{'hand1=1', 'result=0', 'hand4=13'}, 86843], [{'hand3=3', 'result=0'}, 86767], [{'result=0', 'hand3=3', 'hand4=13'}, 86767], [{'hand1=2', 'result=0'}, 86742], [{'hand1=2', 'result=0', 'hand4=13'}, 86742], [{'result=0', 'hand3=2', 'hand4=13'}, 86528], [{'hand3=2', 'result=0'}, 86527], [{'hand5=2', 'result=0', 'hand4=13'}, 86191], [{'hand5=2', 'result=0'}, 86189], [{'result=1', 'hand4=13', 'hand5=3'}, 73715], [{'result=1', 'hand5=3'}, 73713], [{'result=1', 'hand3=1', 'hand4=13'}, 73609], [{'result=1', 'hand3=1'}, 73608], [{'result=1', 'hand5=4'}, 73335], [{'result=1', 'hand5=4', 'hand4=13'}, 73335], [{'result=1', 'hand3=2'}, 73333], [{'result=1', 'hand3=2', 'hand4=13'}, 73333], [{'result=1', 'hand1=3'}, 73319], [{'result=1', 'hand1=3', 'hand4=13'}, 73318], [{'result=1', 'hand1=2'}, 73302], [{'result=1', 'hand1=2', 'hand4=13'}, 73302], [{'result=1', 'hand3=3', 'hand4=13'}, 73186], [{'result=1', 'hand3=3'}, 73184], [{'result=1', 'hand1=4', 'hand4=13'}, 73181], [{'result=1', 'hand1=4'}, 73180], [{'result=1', 'hand1=1'}, 73151], [{'result=1', 'hand1=1', 'hand4=13'}, 73151], [{'result=1', 'hand5=2', 'hand4=13'}, 73039], [{'result=1', 'hand5=2'}, 73038], [{'result=1', 'hand5=1', 'hand4=13'}, 72867], [{'result=1', 'hand5=1'}, 72866], [{'result=1', 'hand3=4', 'hand4=13'}, 72829], [{'result=1', 'hand3=4'}, 72828], [{'hand2=11', 'hand4=13'}, 53515], [{'hand2=4', 'hand4=13'}, 53504], [{'hand4=13', 'hand2=6'}, 53476], [{'hand2=12', 'hand4=13'}, 53464], [{'hand2=1', 'hand4=13'}, 53458], [{'hand2=2', 'hand4=13'}, 53414], [{'hand2=5', 'hand4=13'}, 53380], [{'hand2=3', 'hand4=13'}, 53300], [{'hand2=8', 'hand4=13'}, 53272], [{'hand4=13', 'hand2=13'}, 53262], [{'hand2=10', 'hand4=13'}, 53185], [{'hand2=7', 'hand4=13'}, 53151], [{'hand2=9', 'hand4=13'}, 53066]]\n",
            "25.154701471328735\n",
            "62\n",
            "[[{'result=0', 'hand4=13'}, 347581], [{'result=1', 'hand4=13'}, 292953], [{'hand4=13', 'hand5=3'}, 174370], [{'hand3=1', 'hand4=13'}, 173852], [{'hand5=4', 'hand4=13'}, 173663], [{'hand1=3', 'hand4=13'}, 173643], [{'hand3=4', 'hand4=13'}, 173414], [{'hand1=2', 'hand4=13'}, 173341], [{'hand1=4', 'hand4=13'}, 173338], [{'hand5=1', 'hand4=13'}, 173274], [{'hand1=1', 'hand4=13'}, 173126], [{'hand3=2', 'hand4=13'}, 173122], [{'hand3=3', 'hand4=13'}, 173064], [{'hand5=2', 'hand4=13'}, 172144], [{'result=0', 'hand5=3'}, 87254], [{'result=0', 'hand4=13', 'hand5=3'}, 87254], [{'hand3=4', 'result=0'}, 87188], [{'result=0', 'hand3=4', 'hand4=13'}, 87188], [{'hand3=1', 'result=0', 'hand4=13'}, 87097], [{'hand3=1', 'result=0'}, 87096], [{'hand5=1', 'result=0'}, 87085], [{'result=0', 'hand5=1', 'hand4=13'}, 87085], [{'result=0', 'hand1=4', 'hand4=13'}, 87057], [{'hand1=4', 'result=0'}, 87056], [{'hand5=4', 'result=0'}, 87051], [{'result=0', 'hand5=4', 'hand4=13'}, 87051], [{'hand1=3', 'result=0', 'hand4=13'}, 86939], [{'hand1=3', 'result=0'}, 86938], [{'hand1=1', 'result=0'}, 86843], [{'hand1=1', 'result=0', 'hand4=13'}, 86843], [{'hand3=3', 'result=0'}, 86767], [{'result=0', 'hand3=3', 'hand4=13'}, 86767], [{'hand1=2', 'result=0'}, 86742], [{'hand1=2', 'result=0', 'hand4=13'}, 86742], [{'result=0', 'hand3=2', 'hand4=13'}, 86528], [{'hand3=2', 'result=0'}, 86527], [{'hand5=2', 'result=0', 'hand4=13'}, 86191], [{'hand5=2', 'result=0'}, 86189], [{'result=1', 'hand4=13', 'hand5=3'}, 73715], [{'result=1', 'hand5=3'}, 73713], [{'result=1', 'hand3=1', 'hand4=13'}, 73609], [{'result=1', 'hand3=1'}, 73608], [{'result=1', 'hand5=4'}, 73335], [{'result=1', 'hand5=4', 'hand4=13'}, 73335], [{'result=1', 'hand3=2'}, 73333], [{'result=1', 'hand3=2', 'hand4=13'}, 73333], [{'result=1', 'hand1=3'}, 73319], [{'result=1', 'hand1=3', 'hand4=13'}, 73318], [{'result=1', 'hand1=2'}, 73302], [{'result=1', 'hand1=2', 'hand4=13'}, 73302], [{'result=1', 'hand3=3', 'hand4=13'}, 73186], [{'result=1', 'hand3=3'}, 73184], [{'result=1', 'hand1=4', 'hand4=13'}, 73181], [{'result=1', 'hand1=4'}, 73180], [{'result=1', 'hand1=1'}, 73151], [{'result=1', 'hand1=1', 'hand4=13'}, 73151], [{'result=1', 'hand5=2', 'hand4=13'}, 73039], [{'result=1', 'hand5=2'}, 73038], [{'result=1', 'hand5=1', 'hand4=13'}, 72867], [{'result=1', 'hand5=1'}, 72866], [{'result=1', 'hand3=4', 'hand4=13'}, 72829], [{'result=1', 'hand3=4'}, 72828]]\n",
            "24.417076349258423\n",
            "62\n",
            "[[{'result=0', 'hand4=13'}, 347581], [{'result=1', 'hand4=13'}, 292953], [{'hand4=13', 'hand5=3'}, 174370], [{'hand3=1', 'hand4=13'}, 173852], [{'hand5=4', 'hand4=13'}, 173663], [{'hand1=3', 'hand4=13'}, 173643], [{'hand3=4', 'hand4=13'}, 173414], [{'hand1=2', 'hand4=13'}, 173341], [{'hand1=4', 'hand4=13'}, 173338], [{'hand5=1', 'hand4=13'}, 173274], [{'hand1=1', 'hand4=13'}, 173126], [{'hand3=2', 'hand4=13'}, 173122], [{'hand3=3', 'hand4=13'}, 173064], [{'hand5=2', 'hand4=13'}, 172144], [{'result=0', 'hand5=3'}, 87254], [{'result=0', 'hand4=13', 'hand5=3'}, 87254], [{'hand3=4', 'result=0'}, 87188], [{'result=0', 'hand3=4', 'hand4=13'}, 87188], [{'hand3=1', 'result=0', 'hand4=13'}, 87097], [{'hand3=1', 'result=0'}, 87096], [{'hand5=1', 'result=0'}, 87085], [{'result=0', 'hand5=1', 'hand4=13'}, 87085], [{'result=0', 'hand1=4', 'hand4=13'}, 87057], [{'hand1=4', 'result=0'}, 87056], [{'hand5=4', 'result=0'}, 87051], [{'result=0', 'hand5=4', 'hand4=13'}, 87051], [{'hand1=3', 'result=0', 'hand4=13'}, 86939], [{'hand1=3', 'result=0'}, 86938], [{'hand1=1', 'result=0'}, 86843], [{'hand1=1', 'result=0', 'hand4=13'}, 86843], [{'hand3=3', 'result=0'}, 86767], [{'result=0', 'hand3=3', 'hand4=13'}, 86767], [{'hand1=2', 'result=0'}, 86742], [{'hand1=2', 'result=0', 'hand4=13'}, 86742], [{'result=0', 'hand3=2', 'hand4=13'}, 86528], [{'hand3=2', 'result=0'}, 86527], [{'hand5=2', 'result=0', 'hand4=13'}, 86191], [{'hand5=2', 'result=0'}, 86189], [{'result=1', 'hand4=13', 'hand5=3'}, 73715], [{'result=1', 'hand5=3'}, 73713], [{'result=1', 'hand3=1', 'hand4=13'}, 73609], [{'result=1', 'hand3=1'}, 73608], [{'result=1', 'hand5=4'}, 73335], [{'result=1', 'hand5=4', 'hand4=13'}, 73335], [{'result=1', 'hand3=2'}, 73333], [{'result=1', 'hand3=2', 'hand4=13'}, 73333], [{'result=1', 'hand1=3'}, 73319], [{'result=1', 'hand1=3', 'hand4=13'}, 73318], [{'result=1', 'hand1=2'}, 73302], [{'result=1', 'hand1=2', 'hand4=13'}, 73302], [{'result=1', 'hand3=3', 'hand4=13'}, 73186], [{'result=1', 'hand3=3'}, 73184], [{'result=1', 'hand1=4', 'hand4=13'}, 73181], [{'result=1', 'hand1=4'}, 73180], [{'result=1', 'hand1=1'}, 73151], [{'result=1', 'hand1=1', 'hand4=13'}, 73151], [{'result=1', 'hand5=2', 'hand4=13'}, 73039], [{'result=1', 'hand5=2'}, 73038], [{'result=1', 'hand5=1', 'hand4=13'}, 72867], [{'result=1', 'hand5=1'}, 72866], [{'result=1', 'hand3=4', 'hand4=13'}, 72829], [{'result=1', 'hand3=4'}, 72828]]\n",
            "20.873242616653442\n",
            "38\n",
            "[[{'result=0', 'hand4=13'}, 347581], [{'result=1', 'hand4=13'}, 292953], [{'hand4=13', 'hand5=3'}, 174370], [{'hand3=1', 'hand4=13'}, 173852], [{'hand5=4', 'hand4=13'}, 173663], [{'hand1=3', 'hand4=13'}, 173643], [{'hand3=4', 'hand4=13'}, 173414], [{'hand1=2', 'hand4=13'}, 173341], [{'hand1=4', 'hand4=13'}, 173338], [{'hand5=1', 'hand4=13'}, 173274], [{'hand1=1', 'hand4=13'}, 173126], [{'hand3=2', 'hand4=13'}, 173122], [{'hand3=3', 'hand4=13'}, 173064], [{'hand5=2', 'hand4=13'}, 172144], [{'result=0', 'hand5=3'}, 87254], [{'result=0', 'hand4=13', 'hand5=3'}, 87254], [{'hand3=4', 'result=0'}, 87188], [{'result=0', 'hand3=4', 'hand4=13'}, 87188], [{'hand3=1', 'result=0', 'hand4=13'}, 87097], [{'hand3=1', 'result=0'}, 87096], [{'hand5=1', 'result=0'}, 87085], [{'result=0', 'hand5=1', 'hand4=13'}, 87085], [{'result=0', 'hand1=4', 'hand4=13'}, 87057], [{'hand1=4', 'result=0'}, 87056], [{'hand5=4', 'result=0'}, 87051], [{'result=0', 'hand5=4', 'hand4=13'}, 87051], [{'hand1=3', 'result=0', 'hand4=13'}, 86939], [{'hand1=3', 'result=0'}, 86938], [{'hand1=1', 'result=0'}, 86843], [{'hand1=1', 'result=0', 'hand4=13'}, 86843], [{'hand3=3', 'result=0'}, 86767], [{'result=0', 'hand3=3', 'hand4=13'}, 86767], [{'hand1=2', 'result=0'}, 86742], [{'hand1=2', 'result=0', 'hand4=13'}, 86742], [{'result=0', 'hand3=2', 'hand4=13'}, 86528], [{'hand3=2', 'result=0'}, 86527], [{'hand5=2', 'result=0', 'hand4=13'}, 86191], [{'hand5=2', 'result=0'}, 86189]]\n",
            "16.82079243659973\n",
            "14\n",
            "[[{'result=0', 'hand4=13'}, 347581], [{'result=1', 'hand4=13'}, 292953], [{'hand4=13', 'hand5=3'}, 174370], [{'hand3=1', 'hand4=13'}, 173852], [{'hand5=4', 'hand4=13'}, 173663], [{'hand1=3', 'hand4=13'}, 173643], [{'hand3=4', 'hand4=13'}, 173414], [{'hand1=2', 'hand4=13'}, 173341], [{'hand1=4', 'hand4=13'}, 173338], [{'hand5=1', 'hand4=13'}, 173274], [{'hand1=1', 'hand4=13'}, 173126], [{'hand3=2', 'hand4=13'}, 173122], [{'hand3=3', 'hand4=13'}, 173064], [{'hand5=2', 'hand4=13'}, 172144]]\n"
          ]
        }
      ]
    },
    {
      "cell_type": "code",
      "source": [
        "# importing matplotlib library\n",
        "import matplotlib.pyplot as plt\n",
        "\n",
        "# plt.plot(xList = \"Value of minimum support count\",yList = \"Number of Frequent Pattern Sets\")\n",
        "plt.plot(xList,yListMinSupport)\n",
        "plt.title(\"Poker Dataset\")\n",
        "#plt.text(-250, -400, \"Time:\"+str(abs(timeDiff))+\"ms\",verticalalignment='bottom', horizontalalignment='right',fontsize=8)\n",
        "plt.text(10000, -50, \"Memory:\"+str(abs(memory_end))[0:7]+\"KB\",verticalalignment='bottom', horizontalalignment='right',fontsize=8)\n",
        "plt.xlabel(\"Value of minimum support count\")\n",
        "plt.ylabel(\"Number of Frequent Pattern Sets\")"
      ],
      "metadata": {
        "colab": {
          "base_uri": "https://localhost:8080/",
          "height": 314
        },
        "id": "wRf9VHRXZSQw",
        "outputId": "fe562eea-c63a-4e0c-8f9f-2b3d574d5ce5"
      },
      "execution_count": null,
      "outputs": [
        {
          "output_type": "execute_result",
          "data": {
            "text/plain": [
              "Text(0, 0.5, 'Number of Frequent Pattern Sets')"
            ]
          },
          "metadata": {},
          "execution_count": 465
        },
        {
          "output_type": "display_data",
          "data": {
            "text/plain": [
              "<Figure size 432x288 with 1 Axes>"
            ],
            "image/png": "[encoded data removed]"
          },
          "metadata": {
            "needs_background": "light"
          }
        }
      ]
    },
    {
      "cell_type": "code",
      "source": [
        "print(len(frequentwordset))"
      ],
      "metadata": {
        "colab": {
          "base_uri": "https://localhost:8080/"
        },
        "id": "O6-YFtCKYBoJ",
        "outputId": "06649024-9228-4834-c24e-d8110bb01db3"
      },
      "execution_count": null,
      "outputs": [
        {
          "output_type": "stream",
          "name": "stdout",
          "text": [
            "14\n"
          ]
        }
      ]
    },
    {
      "cell_type": "code",
      "source": [
        "plt.plot(xList,yListTime)\n",
        "plt.title(\"Poker Dataset\")\n",
        "plt.xlabel(\"Value of minimum support count\")\n",
        "plt.ylabel(\"Time taken(s)\")"
      ],
      "metadata": {
        "colab": {
          "base_uri": "https://localhost:8080/",
          "height": 313
        },
        "id": "uRKH9b4jgMK6",
        "outputId": "feb05633-1a63-4694-d658-19d5963cb0f0"
      },
      "execution_count": null,
      "outputs": [
        {
          "output_type": "execute_result",
          "data": {
            "text/plain": [
              "Text(0, 0.5, 'Time taken(s)')"
            ]
          },
          "metadata": {},
          "execution_count": 467
        },
        {
          "output_type": "display_data",
          "data": {
            "text/plain": [
              "<Figure size 432x288 with 1 Axes>"
            ],
            "image/png": "[encoded data removed]"
          },
          "metadata": {
            "needs_background": "light"
          }
        }
      ]
    },
    {
      "cell_type": "code",
      "source": [
        "\n",
        "plt.plot(xList,yListMemory)\n",
        "plt.title(\"Car Dataset\")\n",
        "plt.xlabel(\"Value of minimum support count\")\n",
        "plt.ylabel(\"Memory taken\")"
      ],
      "metadata": {
        "colab": {
          "base_uri": "https://localhost:8080/",
          "height": 313
        },
        "id": "EzTZqyq0dr1i",
        "outputId": "0fd84d15-5468-4c73-d390-ac4390d007a2"
      },
      "execution_count": null,
      "outputs": [
        {
          "output_type": "execute_result",
          "data": {
            "text/plain": [
              "Text(0, 0.5, 'Memory taken')"
            ]
          },
          "metadata": {},
          "execution_count": 457
        },
        {
          "output_type": "display_data",
          "data": {
            "text/plain": [
              "<Figure size 432x288 with 1 Axes>"
            ],
            "image/png": "[encoded data removed]"
          },
          "metadata": {
            "needs_background": "light"
          }
        }
      ]
    },
    {
      "cell_type": "code",
      "source": [],
      "metadata": {
        "id": "YfpKF81hdzYa"
      },
      "execution_count": null,
      "outputs": []
    }
  ]
}